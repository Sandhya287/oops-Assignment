{
 "cells": [
  {
   "cell_type": "code",
   "execution_count": null,
   "id": "79569415-9b1a-4bba-bbd2-aae266137998",
   "metadata": {},
   "outputs": [],
   "source": [
    "#Q1.Create a vehicle class with an init method having instance variables as name_of_vehicle, max_speed\n",
    "and average_of_vehicle.\n"
   ]
  },
  {
   "cell_type": "code",
   "execution_count": 1,
   "id": "5b8b4207-92e9-4321-9aed-1f0aa50afdbe",
   "metadata": {},
   "outputs": [
    {
     "name": "stdout",
     "output_type": "stream",
     "text": [
      "Generic Vehicle\n",
      "120\n",
      "30\n"
     ]
    }
   ],
   "source": [
    "# Vehicle class with an init method\n",
    "class Vehicle:\n",
    "    def __init__(self, name_of_vehicle, max_speed, average_of_vehicle):\n",
    "        self.name_of_vehicle = name_of_vehicle\n",
    "        self.max_speed = max_speed\n",
    "        self.average_of_vehicle = average_of_vehicle\n",
    "\n",
    "# Creating an instance of the Vehicle class\n",
    "vehicle_instance = Vehicle(\"Generic Vehicle\", 120, 30)\n",
    "\n",
    "# Accessing instance variables\n",
    "print(vehicle_instance.name_of_vehicle)  # Output: Generic Vehicle\n",
    "print(vehicle_instance.max_speed)        # Output: 120\n",
    "print(vehicle_instance.average_of_vehicle)  # Output: 30\n"
   ]
  },
  {
   "cell_type": "code",
   "execution_count": null,
   "id": "239d7275-a6b4-43c2-8cad-9e90f7116843",
   "metadata": {},
   "outputs": [],
   "source": [
    "#Q2. Create a child class car from the vehicle class created in Que 1, which will inherit the vehicle class.\n",
    "Create a method named seating_capacity which takes capacity as an argument and returns the name of\n",
    "the vehicle and its seating capacity."
   ]
  },
  {
   "cell_type": "code",
   "execution_count": 2,
   "id": "368a9359-0647-47b3-a78b-9ff1faf517a5",
   "metadata": {},
   "outputs": [
    {
     "name": "stdout",
     "output_type": "stream",
     "text": [
      "Toyota\n",
      "180\n",
      "25\n",
      "Toyota has a seating capacity of 5.\n"
     ]
    }
   ],
   "source": [
    "# Child class Car inheriting from the Vehicle class\n",
    "class Car(Vehicle):\n",
    "    def seating_capacity(self, capacity):\n",
    "        return f\"{self.name_of_vehicle} has a seating capacity of {capacity}.\"\n",
    "\n",
    "# Creating an instance of the Car class\n",
    "car_instance = Car(\"Toyota\", 180, 25)\n",
    "\n",
    "# Accessing inherited instance variables\n",
    "print(car_instance.name_of_vehicle)      # Output: Toyota\n",
    "print(car_instance.max_speed)            # Output: 180\n",
    "print(car_instance.average_of_vehicle)   # Output: 25\n",
    "\n",
    "# Using the seating_capacity method\n",
    "print(car_instance.seating_capacity(5))  # Output: Toyota has a seating capacity of 5.\n"
   ]
  },
  {
   "cell_type": "code",
   "execution_count": null,
   "id": "878e3aa8-26b2-4212-a601-f9ab6153b12b",
   "metadata": {},
   "outputs": [],
   "source": [
    "#Q3. What is multiple inheritance? Write a python code to demonstrate multiple inheritance."
   ]
  },
  {
   "cell_type": "code",
   "execution_count": 3,
   "id": "cc3dc248-4d8b-4ed1-80f2-5c3e20ceab3f",
   "metadata": {},
   "outputs": [
    {
     "name": "stdout",
     "output_type": "stream",
     "text": [
      "Method from class A\n",
      "Method from class B\n",
      "Method from class C\n"
     ]
    }
   ],
   "source": [
    "# Parent classes\n",
    "class A:\n",
    "    def method_A(self):\n",
    "        print(\"Method from class A\")\n",
    "\n",
    "class B:\n",
    "    def method_B(self):\n",
    "        print(\"Method from class B\")\n",
    "\n",
    "# Child class inheriting from class A and B\n",
    "class C(A, B):\n",
    "    def method_C(self):\n",
    "        print(\"Method from class C\")\n",
    "\n",
    "# Creating an instance of class C\n",
    "obj_c = C()\n",
    "\n",
    "# Accessing methods from all parent classes\n",
    "obj_c.method_A()  # Output: Method from class A\n",
    "obj_c.method_B()  # Output: Method from class B\n",
    "obj_c.method_C()  # Output: Method from class C\n"
   ]
  },
  {
   "cell_type": "code",
   "execution_count": null,
   "id": "4dd9f556-b106-45aa-956b-1294bab88db5",
   "metadata": {},
   "outputs": [],
   "source": [
    "#Q4. What are getter and setter in python? Create a class and create a getter and a setter method in this\n",
    "class.\n"
   ]
  },
  {
   "cell_type": "code",
   "execution_count": 4,
   "id": "a86c2b38-0bf4-4bac-9489-75851b752887",
   "metadata": {},
   "outputs": [
    {
     "name": "stdout",
     "output_type": "stream",
     "text": [
      "0\n",
      "5\n"
     ]
    }
   ],
   "source": [
    "class Example:\n",
    "    def __init__(self):\n",
    "        self._x = 0  # private attribute with a single leading underscore\n",
    "\n",
    "    # Getter method\n",
    "    def get_x(self):\n",
    "        return self._x\n",
    "\n",
    "    # Setter method\n",
    "    def set_x(self, value):\n",
    "        if value < 0:\n",
    "            print(\"Value cannot be negative.\")\n",
    "        else:\n",
    "            self._x = value\n",
    "\n",
    "# Creating an instance of the Example class\n",
    "obj = Example()\n",
    "\n",
    "# Using getter and setter methods\n",
    "print(obj.get_x())  # Output: 0\n",
    "obj.set_x(5)\n",
    "print(obj.get_x())  # Output: 5\n"
   ]
  },
  {
   "cell_type": "code",
   "execution_count": null,
   "id": "421c9a12-dbf6-4232-aa68-4e98fc7a92fd",
   "metadata": {},
   "outputs": [],
   "source": [
    "#Q5.What is method overriding in python? Write a python code to demonstrate method overriding."
   ]
  },
  {
   "cell_type": "code",
   "execution_count": 5,
   "id": "8c350236-9e37-49cf-a093-89567e8db158",
   "metadata": {},
   "outputs": [
    {
     "name": "stdout",
     "output_type": "stream",
     "text": [
      "Generic animal sound\n",
      "Woof! Woof!\n"
     ]
    }
   ],
   "source": [
    "# Parent class\n",
    "class Animal:\n",
    "    def make_sound(self):\n",
    "        print(\"Generic animal sound\")\n",
    "\n",
    "# Child class overriding the make_sound method\n",
    "class Dog(Animal):\n",
    "    def make_sound(self):\n",
    "        print(\"Woof! Woof!\")\n",
    "\n",
    "# Creating instances of the classes\n",
    "animal_obj = Animal()\n",
    "dog_obj = Dog()\n",
    "\n",
    "# Calling the make_sound method for both objects\n",
    "animal_obj.make_sound()  # Output: Generic animal sound\n",
    "dog_obj.make_sound()     # Output: Woof! Woof!\n"
   ]
  },
  {
   "cell_type": "code",
   "execution_count": null,
   "id": "d53b48f3-7cbb-491b-997e-d72f491469c9",
   "metadata": {},
   "outputs": [],
   "source": []
  }
 ],
 "metadata": {
  "kernelspec": {
   "display_name": "Python 3 (ipykernel)",
   "language": "python",
   "name": "python3"
  },
  "language_info": {
   "codemirror_mode": {
    "name": "ipython",
    "version": 3
   },
   "file_extension": ".py",
   "mimetype": "text/x-python",
   "name": "python",
   "nbconvert_exporter": "python",
   "pygments_lexer": "ipython3",
   "version": "3.10.8"
  }
 },
 "nbformat": 4,
 "nbformat_minor": 5
}
